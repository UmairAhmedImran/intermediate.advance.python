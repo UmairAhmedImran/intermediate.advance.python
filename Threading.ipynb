{
 "cells": [
  {
   "cell_type": "code",
   "execution_count": 2,
   "id": "2427cf8c",
   "metadata": {},
   "outputs": [
    {
     "name": "stdout",
     "output_type": "stream",
     "text": [
      "Start value 0\n",
      "end value 1\n",
      "end main\n"
     ]
    }
   ],
   "source": [
    "from threading import Thread\n",
    "import time\n",
    "database_value = 0\n",
    "\n",
    "def increase():\n",
    "    global database_value\n",
    "    local_copy = database_value\n",
    "    \n",
    "    #processing\n",
    "    \n",
    "    local_copy += 1\n",
    "    time.sleep(0.1) #because we have a time gap thats why the other thread also run and modify 0 to 1 while the first thread is not completed\n",
    "    database_value = local_copy\n",
    "    \n",
    "if __name__ == \"__main__\":\n",
    "    \n",
    "    print(\"Start value\", database_value)\n",
    "    \n",
    "    thread1 = Thread(target=increase)\n",
    "    thread2 = Thread(target=increase)\n",
    "    \n",
    "    thread1.start()\n",
    "    thread2.start()\n",
    "    \n",
    "    thread1.join()\n",
    "    thread2.join()\n",
    "    \n",
    "    print(\"end value\", database_value)\n",
    "    print(\"end main\")"
   ]
  },
  {
   "cell_type": "markdown",
   "id": "adcf26b6",
   "metadata": {},
   "source": [
    "### using lock to prevent above code and keeping a time gap"
   ]
  },
  {
   "cell_type": "code",
   "execution_count": 16,
   "id": "e8e670aa",
   "metadata": {},
   "outputs": [
    {
     "name": "stdout",
     "output_type": "stream",
     "text": [
      "Start value 0\n",
      "end value 2\n",
      "end main\n"
     ]
    }
   ],
   "source": [
    "from threading import Thread, Lock\n",
    "import time\n",
    "database_value = 0\n",
    "\n",
    "def increase(lock):\n",
    "    global database_value\n",
    "    \n",
    "    \n",
    "    with lock: # does the work of lock.acquire and lock.release\n",
    "        local_copy = database_value\n",
    "        local_copy += 1\n",
    "        time.sleep(0.1) #because we have a time gap thats why the other thread also run and modify 0 to 1 while the first thread is not completed\n",
    "        database_value = local_copy\n",
    "  \n",
    "if __name__ == '__main__':\n",
    "    \n",
    "    lock = Lock()\n",
    "\n",
    "    print(\"Start value\", database_value)\n",
    "    \n",
    "    thread1 = Thread(target=increase, args=(lock,))\n",
    "    thread2 = Thread(target=increase, args=(lock,))\n",
    "    \n",
    "    thread1.start()\n",
    "    thread2.start()\n",
    "    \n",
    "    thread1.join()\n",
    "    thread2.join()\n",
    "    \n",
    "    print(\"end value\", database_value)\n",
    "    print(\"end main\")"
   ]
  }
 ],
 "metadata": {
  "kernelspec": {
   "display_name": "Python 3 (ipykernel)",
   "language": "python",
   "name": "python3"
  },
  "language_info": {
   "codemirror_mode": {
    "name": "ipython",
    "version": 3
   },
   "file_extension": ".py",
   "mimetype": "text/x-python",
   "name": "python",
   "nbconvert_exporter": "python",
   "pygments_lexer": "ipython3",
   "version": "3.9.13"
  }
 },
 "nbformat": 4,
 "nbformat_minor": 5
}
