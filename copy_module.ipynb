{
 "cells": [
  {
   "cell_type": "markdown",
   "id": "18e32084",
   "metadata": {},
   "source": [
    "#### shallow copy"
   ]
  },
  {
   "cell_type": "code",
   "execution_count": 2,
   "id": "3638f98c",
   "metadata": {},
   "outputs": [
    {
     "name": "stdout",
     "output_type": "stream",
     "text": [
      "[8, 1, 2, 3]\n",
      "[0, 1, 2, 3]\n"
     ]
    }
   ],
   "source": [
    "import copy\n",
    "\n",
    "a = [0,1,2,3]\n",
    "cpy = copy.copy(a)\n",
    "a[0] = 8\n",
    "print(a)\n",
    "print(cpy)"
   ]
  },
  {
   "cell_type": "markdown",
   "id": "b55543a5",
   "metadata": {},
   "source": [
    "#### shallow copy is one level deep in a list of two or more dimension it will not work properly as you want,  so we have to use deepcopy method of copy module to get proper copy"
   ]
  },
  {
   "cell_type": "code",
   "execution_count": 3,
   "id": "520006df",
   "metadata": {},
   "outputs": [
    {
     "name": "stdout",
     "output_type": "stream",
     "text": [
      "[[0, 1, 2, 8], [0, 1]]\n",
      "[[0, 1, 2, 3], [0, 1]]\n"
     ]
    }
   ],
   "source": [
    "import copy\n",
    "\n",
    "a = [[0,1,2,3],[0,1]]\n",
    "cpy = copy.deepcopy(a)\n",
    "a[0][3]= 8\n",
    "print(a)\n",
    "print(cpy)"
   ]
  }
 ],
 "metadata": {
  "kernelspec": {
   "display_name": "Python 3 (ipykernel)",
   "language": "python",
   "name": "python3"
  },
  "language_info": {
   "codemirror_mode": {
    "name": "ipython",
    "version": 3
   },
   "file_extension": ".py",
   "mimetype": "text/x-python",
   "name": "python",
   "nbconvert_exporter": "python",
   "pygments_lexer": "ipython3",
   "version": "3.9.13"
  }
 },
 "nbformat": 4,
 "nbformat_minor": 5
}
