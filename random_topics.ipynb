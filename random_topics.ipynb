{
 "cells": [
  {
   "cell_type": "code",
   "execution_count": 4,
   "id": "e17d00e0",
   "metadata": {},
   "outputs": [
    {
     "name": "stdout",
     "output_type": "stream",
     "text": [
      "1 2\n",
      "3\n",
      "4\n",
      "5\n",
      "six 6\n",
      "seven 7\n"
     ]
    }
   ],
   "source": [
    "def foo(a, b, *args, **kwargs):\n",
    "    print(a, b)\n",
    "    for arg in args:\n",
    "        print(arg)\n",
    "    for key in kwargs:\n",
    "        print(key, kwargs[key])\n",
    "        \n",
    "foo(1, 2, 3, 4, 5, six=6, seven=7)\n"
   ]
  },
  {
   "cell_type": "markdown",
   "id": "03ed614d",
   "metadata": {},
   "source": [
    "#### When using * in parameter after * we have to use keyword arguments"
   ]
  },
  {
   "cell_type": "code",
   "execution_count": 6,
   "id": "65bfb723",
   "metadata": {},
   "outputs": [
    {
     "name": "stdout",
     "output_type": "stream",
     "text": [
      "1 2 3 4\n"
     ]
    }
   ],
   "source": [
    "def foo(a, b, *, c, d):\n",
    "    print(a,b,c,d)\n",
    "    \n",
    "foo(1,2,c=3,d=4)"
   ]
  },
  {
   "cell_type": "markdown",
   "id": "09b41272",
   "metadata": {},
   "source": [
    "#### unpacking lists and tuple an for dict you need yo do ** and the name of keys should be same as of paramter in function\n"
   ]
  },
  {
   "cell_type": "code",
   "execution_count": 1,
   "id": "609161e0",
   "metadata": {},
   "outputs": [
    {
     "name": "stdout",
     "output_type": "stream",
     "text": [
      "0 1 2\n",
      "1 2 3\n"
     ]
    }
   ],
   "source": [
    "def foo(a,b,c):\n",
    "    print(a,b,c)\n",
    "    \n",
    "my_list = [0,1,2]\n",
    "foo(*my_list)\n",
    "\n",
    "my_dict = {'a': 1, 'b': 2, 'c': 3}\n",
    "foo(**my_dict)"
   ]
  },
  {
   "cell_type": "markdown",
   "id": "5da3076e",
   "metadata": {},
   "source": [
    "#### immutable objects can not be changed by in a function but muttable objects can be changed in a functon"
   ]
  },
  {
   "cell_type": "code",
   "execution_count": 2,
   "id": "54551a96",
   "metadata": {},
   "outputs": [
    {
     "name": "stdout",
     "output_type": "stream",
     "text": [
      "[0, 1, 0, 1, 0, 1, 0, 1, 0, 1, 0, 1, 0, 1, 0, 1, 0, 1, 0, 1]\n"
     ]
    }
   ],
   "source": [
    "a = [0, 1] * 10\n",
    "print(a)"
   ]
  },
  {
   "cell_type": "markdown",
   "id": "853836ab",
   "metadata": {},
   "source": [
    "#### we can unpack items like this and use different variables and more variables to unpack"
   ]
  },
  {
   "cell_type": "code",
   "execution_count": 4,
   "id": "aaed7c71",
   "metadata": {},
   "outputs": [
    {
     "name": "stdout",
     "output_type": "stream",
     "text": [
      "[0, 1, 2, 3, 4, 5]\n",
      "6\n"
     ]
    }
   ],
   "source": [
    "numbers = [0, 1, 2, 3, 4, 5, 6]\n",
    "*beginning, last = numbers\n",
    "print(beginning)\n",
    "print(last)"
   ]
  }
 ],
 "metadata": {
  "kernelspec": {
   "display_name": "Python 3 (ipykernel)",
   "language": "python",
   "name": "python3"
  },
  "language_info": {
   "codemirror_mode": {
    "name": "ipython",
    "version": 3
   },
   "file_extension": ".py",
   "mimetype": "text/x-python",
   "name": "python",
   "nbconvert_exporter": "python",
   "pygments_lexer": "ipython3",
   "version": "3.9.13"
  }
 },
 "nbformat": 4,
 "nbformat_minor": 5
}
