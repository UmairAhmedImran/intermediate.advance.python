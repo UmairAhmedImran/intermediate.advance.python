{
 "cells": [
  {
   "cell_type": "code",
   "execution_count": 1,
   "id": "76855fb3",
   "metadata": {},
   "outputs": [],
   "source": [
    "from queue import Queue"
   ]
  },
  {
   "cell_type": "code",
   "execution_count": 3,
   "id": "aaed1c2e",
   "metadata": {},
   "outputs": [
    {
     "name": "stdout",
     "output_type": "stream",
     "text": [
      "<queue.Queue object at 0x00000142DAC6DB50>\n"
     ]
    }
   ],
   "source": [
    "q = Queue()\n",
    "\n",
    "q.put(1)\n",
    "q.put(2)\n",
    "q.put(3)\n",
    "\n",
    "print(q) # return queue object"
   ]
  },
  {
   "cell_type": "code",
   "execution_count": 4,
   "id": "876cee14",
   "metadata": {},
   "outputs": [
    {
     "name": "stdout",
     "output_type": "stream",
     "text": [
      "1\n"
     ]
    }
   ],
   "source": [
    "first = q.get() # get the first number entered\n",
    "print(first)"
   ]
  },
  {
   "cell_type": "code",
   "execution_count": 5,
   "id": "9170e1c6",
   "metadata": {},
   "outputs": [],
   "source": [
    "# whenever your multithreading task has been done use\n",
    "q.task_done()"
   ]
  },
  {
   "cell_type": "code",
   "execution_count": null,
   "id": "fed352ff",
   "metadata": {},
   "outputs": [],
   "source": [
    "q.join() # block other methods untill all the threads arre completed"
   ]
  },
  {
   "cell_type": "code",
   "execution_count": 1,
   "id": "933d907a",
   "metadata": {},
   "outputs": [
    {
     "name": "stdout",
     "output_type": "stream",
     "text": [
      "in Thread1 got 0\n",
      "in Thread2 got 1\n",
      "in Thread3 got 2\n",
      "in Thread4 got 3\n",
      "in Thread5 got 4\n",
      "in Thread6 got 5\n",
      "in Thread7 got 6\n",
      "in Thread9 got 7\n",
      "in Thread10 got 8\n",
      "in Thread8 got 9\n",
      "in Thread1 got 10\n",
      "in Thread2 got 11\n",
      "in Thread3 got 12\n",
      "in Thread4 got 13\n",
      "in Thread5 got 14\n",
      "in Thread6 got 15\n",
      "in Thread7 got 16\n",
      "in Thread9 got 17\n",
      "in Thread10 got 18\n",
      "in Thread8 got 19\n",
      "main done\n"
     ]
    }
   ],
   "source": [
    "from threading import Thread, Lock, current_thread\n",
    "from queue import Queue\n",
    "\n",
    "def worker(q, lock):\n",
    "    while True:\n",
    "        value = q.get()  # blocks until the item is available\n",
    "\n",
    "        # do stuff...\n",
    "        with lock:\n",
    "            # prevent printing at the same time with this lock\n",
    "            print(f\"in {current_thread().name} got {value}\")\n",
    "        # ...\n",
    "\n",
    "        # For each get(), a subsequent call to task_done() tells the queue\n",
    "        # that the processing on this item is complete.\n",
    "        # If all tasks are done, q.join() can unblock\n",
    "        q.task_done()\n",
    "\n",
    "\n",
    "if __name__ == '__main__':\n",
    "    q = Queue()\n",
    "    num_threads = 10\n",
    "    lock = Lock()\n",
    "\n",
    "    for i in range(num_threads):\n",
    "        t = Thread(name=f\"Thread{i+1}\", target=worker, args=(q, lock))\n",
    "        t.daemon = True  # dies when the main thread dies\n",
    "        t.start()\n",
    "    \n",
    "    # fill the queue with items\n",
    "    for x in range(20):\n",
    "        q.put(x)\n",
    "\n",
    "    q.join()  # Blocks until all items in the queue have been gotten and processed.\n",
    "\n",
    "    print('main done')"
   ]
  },
  {
   "cell_type": "markdown",
   "id": "2391e5f7",
   "metadata": {},
   "source": [
    "### demon thread dies whe the thread dies otherwise our while true loop will not end"
   ]
  }
 ],
 "metadata": {
  "kernelspec": {
   "display_name": "Python 3 (ipykernel)",
   "language": "python",
   "name": "python3"
  },
  "language_info": {
   "codemirror_mode": {
    "name": "ipython",
    "version": 3
   },
   "file_extension": ".py",
   "mimetype": "text/x-python",
   "name": "python",
   "nbconvert_exporter": "python",
   "pygments_lexer": "ipython3",
   "version": "3.9.13"
  }
 },
 "nbformat": 4,
 "nbformat_minor": 5
}
