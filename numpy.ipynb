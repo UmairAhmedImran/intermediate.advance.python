{
 "cells": [
  {
   "cell_type": "markdown",
   "id": "f07a0a6e",
   "metadata": {},
   "source": [
    "## Numpy for random arrays"
   ]
  },
  {
   "cell_type": "code",
   "execution_count": null,
   "id": "0a924f63",
   "metadata": {},
   "outputs": [],
   "source": [
    "# Generat an array of random float between 0 and 1 and elements number can be changed by making argument and for more\n",
    "# dimensions use second and more argument\n",
    "import numpy as np\n",
    "a = np.random.rand(3, 3, 3)\n",
    "print(a)"
   ]
  },
  {
   "cell_type": "code",
   "execution_count": 17,
   "id": "0e97ad91",
   "metadata": {},
   "outputs": [
    {
     "name": "stdout",
     "output_type": "stream",
     "text": [
      "[[5 4 9 4 5]\n",
      " [9 9 9 1 3]\n",
      " [0 7 8 4 9]]\n"
     ]
    }
   ],
   "source": [
    "# first two argument for range and then others for dimensions and for higher dimensions use a tuple\n",
    "a = np.random.randint(0, 10, (3,5))\n",
    "print(a)"
   ]
  },
  {
   "cell_type": "code",
   "execution_count": 22,
   "id": "296fb55b",
   "metadata": {},
   "outputs": [
    {
     "name": "stdout",
     "output_type": "stream",
     "text": [
      "[[1 2 3]\n",
      " [4 5 6]\n",
      " [7 8 9]]\n",
      "[[4 5 6]\n",
      " [7 8 9]\n",
      " [1 2 3]]\n"
     ]
    }
   ],
   "source": [
    "# shuffle arrays\n",
    "arr = np.array([[1,2,3], [4, 5, 6], [7, 8, 9]])\n",
    "print(arr)\n",
    "np.random.shuffle(arr)\n",
    "print(arr)"
   ]
  },
  {
   "cell_type": "code",
   "execution_count": 24,
   "id": "4ea3dc42",
   "metadata": {},
   "outputs": [
    {
     "name": "stdout",
     "output_type": "stream",
     "text": [
      "[[4.17022005e-01 7.20324493e-01 1.14374817e-04]\n",
      " [3.02332573e-01 1.46755891e-01 9.23385948e-02]\n",
      " [1.86260211e-01 3.45560727e-01 3.96767474e-01]]\n",
      "[[4.17022005e-01 7.20324493e-01 1.14374817e-04]\n",
      " [3.02332573e-01 1.46755891e-01 9.23385948e-02]\n",
      " [1.86260211e-01 3.45560727e-01 3.96767474e-01]]\n"
     ]
    }
   ],
   "source": [
    "# seed for keeping track\n",
    "np.random.seed(1)\n",
    "print(np.random.rand(3, 3))\n",
    "np.random.seed(1)\n",
    "print(np.random.rand(3, 3))"
   ]
  }
 ],
 "metadata": {
  "kernelspec": {
   "display_name": "Python 3 (ipykernel)",
   "language": "python",
   "name": "python3"
  },
  "language_info": {
   "codemirror_mode": {
    "name": "ipython",
    "version": 3
   },
   "file_extension": ".py",
   "mimetype": "text/x-python",
   "name": "python",
   "nbconvert_exporter": "python",
   "pygments_lexer": "ipython3",
   "version": "3.9.13"
  }
 },
 "nbformat": 4,
 "nbformat_minor": 5
}
