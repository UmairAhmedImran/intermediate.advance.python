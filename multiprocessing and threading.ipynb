{
 "cells": [
  {
   "cell_type": "code",
   "execution_count": 1,
   "id": "ffc7db31",
   "metadata": {},
   "outputs": [
    {
     "name": "stdout",
     "output_type": "stream",
     "text": [
      "end main\n"
     ]
    }
   ],
   "source": [
    "from threading import Thread \n",
    "import os\n",
    "import time\n",
    "\n",
    "def square_numbers():\n",
    "    for i in range(100):\n",
    "        i*i\n",
    "        time.sleep(0.1)\n",
    "\n",
    "threads = []\n",
    "num_threads = 10\n",
    "\n",
    "for i in range(num_threads):\n",
    "    t = Thread(target=square_numbers) # if their is any arguments in the function you can create another attribute of args andddefine them\n",
    "    threads.append(t)\n",
    "    \n",
    "for t in threads:\n",
    "    t.start()\n",
    "    \n",
    "for t in threads:\n",
    "    t.join()\n",
    "print(\"end main\")"
   ]
  },
  {
   "cell_type": "code",
   "execution_count": 3,
   "id": "aaae25b9",
   "metadata": {},
   "outputs": [
    {
     "name": "stdout",
     "output_type": "stream",
     "text": [
      "end main\n"
     ]
    }
   ],
   "source": [
    "from multiprocessing import Process\n",
    "import os\n",
    "import time\n",
    "\n",
    "def square_numbers():\n",
    "    for i in range(100):\n",
    "        i*i\n",
    "        time.sleep(0.1)\n",
    "\n",
    "processes = []\n",
    "num_processes = os.cpu_count()\n",
    "for i in range(num_processes):\n",
    "    p = Process(target=square_numbers) # if their is any arguments in the function you can create another attribute of args andddefine them\n",
    "    processes.append(p)\n",
    "for p in processes:\n",
    "    p.start()\n",
    "for p in processes:\n",
    "    p.join()\n",
    "print(\"end main\")"
   ]
  },
  {
   "cell_type": "code",
   "execution_count": 1,
   "id": "01a6ca2f",
   "metadata": {},
   "outputs": [
    {
     "name": "stdout",
     "output_type": "stream",
     "text": [
      "4\n"
     ]
    }
   ],
   "source": [
    "import os\n",
    "p = os.cpu_count()\n",
    "print(p)"
   ]
  }
 ],
 "metadata": {
  "kernelspec": {
   "display_name": "Python 3 (ipykernel)",
   "language": "python",
   "name": "python3"
  },
  "language_info": {
   "codemirror_mode": {
    "name": "ipython",
    "version": 3
   },
   "file_extension": ".py",
   "mimetype": "text/x-python",
   "name": "python",
   "nbconvert_exporter": "python",
   "pygments_lexer": "ipython3",
   "version": "3.9.13"
  }
 },
 "nbformat": 4,
 "nbformat_minor": 5
}
