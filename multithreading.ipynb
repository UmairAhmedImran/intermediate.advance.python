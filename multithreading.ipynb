{
 "cells": [
  {
   "cell_type": "code",
   "execution_count": 3,
   "id": "ffc7db31",
   "metadata": {},
   "outputs": [
    {
     "name": "stdout",
     "output_type": "stream",
     "text": [
      "end main\n"
     ]
    }
   ],
   "source": [
    "from threading import Thread \n",
    "import os\n",
    "import time\n",
    "\n",
    "def square_numbers():\n",
    "    for i in range(100):\n",
    "        i*i\n",
    "        time.sleep(0.1)\n",
    "\n",
    "threads = []\n",
    "num_threads = 10\n",
    "\n",
    "for i in range(num_threads):\n",
    "    t = Thread(target=square_numbers) # if their is any arguments in the function you can create another attribute of args andddefine them\n",
    "    threads.append(t)\n",
    "    \n",
    "for t in threads:\n",
    "    p.start()\n",
    "    \n",
    "for p in processes:\n",
    "    p.join()\n",
    "print(\"end main\")"
   ]
  },
  {
   "cell_type": "code",
   "execution_count": 3,
   "id": "cb8e57a3",
   "metadata": {},
   "outputs": [
    {
     "name": "stdout",
     "output_type": "stream",
     "text": [
      "end main\n"
     ]
    }
   ],
   "source": [
    "from multiprocessing import Process\n",
    "import os\n",
    "import time\n",
    "\n",
    "def square_numbers():\n",
    "    for i in range(100):\n",
    "        i*i\n",
    "        time.sleep(0.1)\n",
    "\n",
    "processes = []\n",
    "num_processes = os.cpu_count()\n",
    "for i in range(num_processes):\n",
    "    p = Process(target=square_numbers) # if their is any arguments in the function you can create another attribute of args andddefine them\n",
    "    processes.append(p)\n",
    "for p in processes:\n",
    "    p.start()\n",
    "for p in processes:\n",
    "    p.join()\n",
    "print(\"end main\")"
   ]
  },
  {
   "cell_type": "code",
   "execution_count": 1,
   "id": "01a6ca2f",
   "metadata": {},
   "outputs": [
    {
     "name": "stdout",
     "output_type": "stream",
     "text": [
      "4\n"
     ]
    }
   ],
   "source": [
    "import os\n",
    "p = os.cpu_count()\n",
    "print(p)"
   ]
  },
  {
   "cell_type": "code",
   "execution_count": 3,
   "id": "3cf5e1d8",
   "metadata": {},
   "outputs": [
    {
     "name": "stdout",
     "output_type": "stream",
     "text": [
      "Number at the begging is 0\n"
     ]
    }
   ],
   "source": [
    "from multiprocessing import Process, Value, Array\n",
    "import time\n",
    "\n",
    "Shared_number = Value('i', 0)\n",
    "print(\"Number at the begging is\", Shared_number.value)\n"
   ]
  },
  {
   "cell_type": "code",
   "execution_count": 6,
   "id": "488f52d1",
   "metadata": {},
   "outputs": [
    {
     "name": "stdout",
     "output_type": "stream",
     "text": [
      "Number at the beginning is 0\n",
      "Number at the end 0\n"
     ]
    }
   ],
   "source": [
    "from multiprocessing import Process, Value, Array\n",
    "import time\n",
    "\n",
    "def add_100(number):\n",
    "    for i in range(100):\n",
    "        time.sleep(0.1)\n",
    "        number.value += 1\n",
    "    \n",
    "\n",
    "Shared_number = Value('i', 0)\n",
    "print(\"Number at the beginning is\", Shared_number.value)\n",
    "\n",
    "p1 = Process(target=add_100, args=(Shared_number,))\n",
    "p2 = Process(target=add_100, args=(Shared_number,))\n",
    "\n",
    "p1.start()\n",
    "p2.start()\n",
    "\n",
    "p1.join()\n",
    "p2.join()\n",
    "\n",
    "print(\"Number at the end\", Shared_number.value)"
   ]
  },
  {
   "cell_type": "code",
   "execution_count": 1,
   "id": "6f70404a",
   "metadata": {},
   "outputs": [
    {
     "name": "stdout",
     "output_type": "stream",
     "text": [
      "in Thread1 got 0\n",
      "in Thread1 got 10\n",
      "in Thread3 got 2\n",
      "in Thread4 got 3\n",
      "in Thread5 got 4\n",
      "in Thread6 got 5\n",
      "in Thread7 got 6\n",
      "in Thread8 got 7\n",
      "in Thread9 got 8\n",
      "in Thread10 got 9\n",
      "in Thread2 got 1\n",
      "in Thread1 got 11\n",
      "in Thread3 got 12\n",
      "in Thread4 got 13\n",
      "in Thread5 got 14\n",
      "in Thread6 got 15\n",
      "in Thread7 got 16\n",
      "in Thread8 got 17\n",
      "in Thread9 got 18\n",
      "in Thread10 got 19\n",
      "main done\n"
     ]
    }
   ],
   "source": [
    "from threading import Thread, Lock, current_thread\n",
    "from queue import Queue\n",
    "\n",
    "def worker(q, lock):\n",
    "    while True:\n",
    "        value = q.get()  # blocks until the item is available\n",
    "\n",
    "        # do stuff...\n",
    "        with lock:\n",
    "            # prevent printing at the same time with this lock\n",
    "            print(f\"in {current_thread().name} got {value}\")\n",
    "        # ...\n",
    "\n",
    "        # For each get(), a subsequent call to task_done() tells the queue\n",
    "        # that the processing on this item is complete.\n",
    "        # If all tasks are done, q.join() can unblock\n",
    "        q.task_done()\n",
    "\n",
    "\n",
    "if __name__ == '__main__':\n",
    "    q = Queue()\n",
    "    num_threads = 10\n",
    "    lock = Lock()\n",
    "\n",
    "    for i in range(num_threads):\n",
    "        t = Thread(name=f\"Thread{i+1}\", target=worker, args=(q, lock))\n",
    "        t.daemon = True  # dies when the main thread dies\n",
    "        t.start()\n",
    "    \n",
    "    # fill the queue with items\n",
    "    for x in range(20):\n",
    "        q.put(x)\n",
    "\n",
    "    q.join()  # Blocks until all items in the queue have been gotten and processed.\n",
    "\n",
    "    print('main done')"
   ]
  },
  {
   "cell_type": "code",
   "execution_count": 14,
   "id": "40a50166",
   "metadata": {},
   "outputs": [
    {
     "name": "stdout",
     "output_type": "stream",
     "text": [
      "Value at beginning: 0\n",
      "Value at end: 0\n"
     ]
    }
   ],
   "source": [
    "from multiprocessing import Process, Value, Array, Lock\n",
    "import time\n",
    "\n",
    "def add_100(number, lock):\n",
    "    for _ in range(100):\n",
    "        time.sleep(0.01)\n",
    "        lock.aqcuire()\n",
    "        number.value += 1\n",
    "        lock.release()\n",
    "\n",
    "if __name__ == \"__main__\":\n",
    "    \n",
    "    lock = Lock()\n",
    "    shared_number = Value('i', 0) \n",
    "    print('Value at beginning:', shared_number.value)\n",
    "    process1 = Process(target=add_100, args=(shared_number, lock))\n",
    "    process2 = Process(target=add_100, args=(shared_number, lock))\n",
    "    process1.start()\n",
    "    process2.start()\n",
    "    process1.join()\n",
    "    process2.join()\n",
    "    print('Value at end:', shared_number.value)\n"
   ]
  }
 ],
 "metadata": {
  "kernelspec": {
   "display_name": "Python 3 (ipykernel)",
   "language": "python",
   "name": "python3"
  },
  "language_info": {
   "codemirror_mode": {
    "name": "ipython",
    "version": 3
   },
   "file_extension": ".py",
   "mimetype": "text/x-python",
   "name": "python",
   "nbconvert_exporter": "python",
   "pygments_lexer": "ipython3",
   "version": "3.9.13"
  }
 },
 "nbformat": 4,
 "nbformat_minor": 5
}
