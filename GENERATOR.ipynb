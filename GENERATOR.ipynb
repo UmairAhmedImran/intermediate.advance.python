{
 "cells": [
  {
   "cell_type": "markdown",
   "id": "9b9924b9",
   "metadata": {},
   "source": [
    "# GENERATORS"
   ]
  },
  {
   "cell_type": "code",
   "execution_count": 24,
   "id": "d52e161c",
   "metadata": {},
   "outputs": [
    {
     "name": "stdout",
     "output_type": "stream",
     "text": [
      "<generator object mygenetaor at 0x000001BEE7FEC7B0>\n"
     ]
    }
   ],
   "source": [
    "def mygenetaor():\n",
    "    yield 1\n",
    "    yield 2\n",
    "    yield 3\n",
    "    \n",
    "x = mygenetaor()\n",
    "print(x)\n",
    "\n",
    "#for i in x:\n",
    "    #print(i)"
   ]
  },
  {
   "cell_type": "code",
   "execution_count": 25,
   "id": "b04ebdba",
   "metadata": {},
   "outputs": [
    {
     "name": "stdout",
     "output_type": "stream",
     "text": [
      "1\n",
      "2\n",
      "3\n"
     ]
    }
   ],
   "source": [
    "value = next(x)\n",
    "print(value)\n",
    "\n",
    "value = next(x)\n",
    "print(value)\n",
    "\n",
    "value = next(x)\n",
    "print(value)"
   ]
  },
  {
   "cell_type": "code",
   "execution_count": 30,
   "id": "36160586",
   "metadata": {},
   "outputs": [
    {
     "name": "stdout",
     "output_type": "stream",
     "text": [
      "6\n"
     ]
    }
   ],
   "source": [
    "def mygenetaor():\n",
    "    yield 1\n",
    "    yield 2\n",
    "    yield 3\n",
    "    \n",
    "x = mygenetaor()\n",
    "print(sum(x))"
   ]
  },
  {
   "cell_type": "code",
   "execution_count": 31,
   "id": "f8511b45",
   "metadata": {},
   "outputs": [
    {
     "name": "stdout",
     "output_type": "stream",
     "text": [
      "[1, 2, 3]\n"
     ]
    }
   ],
   "source": [
    "def mygenetaor():\n",
    "    yield 3\n",
    "    yield 1\n",
    "    yield 2\n",
    "    \n",
    "x = mygenetaor()\n",
    "\n",
    "print(sorted(x))"
   ]
  },
  {
   "cell_type": "markdown",
   "id": "6acc4d42",
   "metadata": {},
   "source": [
    "#### Creating a generator and using next  to get every value"
   ]
  },
  {
   "cell_type": "code",
   "execution_count": 13,
   "id": "39f45347",
   "metadata": {},
   "outputs": [
    {
     "name": "stdout",
     "output_type": "stream",
     "text": [
      "Starting\n",
      "4\n",
      "3\n",
      "2\n",
      "1\n"
     ]
    }
   ],
   "source": [
    "def countdown(num):\n",
    "    print(\"Starting\")\n",
    "    while num > 0:\n",
    "        yield num\n",
    "        num -= 1\n",
    "\n",
    "cd = countdown(4)\n",
    "\n",
    "value = next(cd)\n",
    "print(value)\n",
    "#print(next(cd)) the above two line and this is same\n",
    "print(next(cd))\n",
    "print(next(cd))\n",
    "print(next(cd))"
   ]
  },
  {
   "cell_type": "code",
   "execution_count": 40,
   "id": "069fbd6d",
   "metadata": {},
   "outputs": [
    {
     "name": "stdout",
     "output_type": "stream",
     "text": [
      "45\n",
      "45\n"
     ]
    }
   ],
   "source": [
    "def firstn(n):\n",
    "    nums = []\n",
    "    num = 0\n",
    "    while num < n:\n",
    "        nums.append(num)\n",
    "        num += 1\n",
    "    return nums\n",
    "\n",
    "\n",
    "def firstn_generator(n):\n",
    "    num = 0\n",
    "    while num < n:\n",
    "        yield num\n",
    "        num += 1\n",
    "\n",
    "\n",
    "    \n",
    "    \n",
    "print(sum(firstn(10)))\n",
    "print(sum(firstn_generator(10)))\n",
    "\n"
   ]
  },
  {
   "cell_type": "markdown",
   "id": "8fbdf5bf",
   "metadata": {},
   "source": [
    "#### difference between the space taken when using a generator and a list function"
   ]
  },
  {
   "cell_type": "code",
   "execution_count": 45,
   "id": "8f345b83",
   "metadata": {},
   "outputs": [
    {
     "name": "stdout",
     "output_type": "stream",
     "text": [
      "800984\n",
      "112\n"
     ]
    }
   ],
   "source": [
    "import sys\n",
    "def firstn(n):\n",
    "    nums = []\n",
    "    num = 0\n",
    "    while num < n:\n",
    "        nums.append(num)\n",
    "        num += 1\n",
    "    return nums\n",
    "\n",
    "\n",
    "def firstn_generator(n):\n",
    "    num = 0\n",
    "    while num < n:\n",
    "        yield num\n",
    "        num += 1\n",
    "\n",
    "\n",
    "    \n",
    "    \n",
    "print(sys.getsizeof(firstn(100000)))\n",
    "print(sys.getsizeof(firstn_generator(100000)))"
   ]
  },
  {
   "cell_type": "markdown",
   "id": "12cc3be4",
   "metadata": {},
   "source": [
    "#### Using generators for fibonacci sequence because it uses less space than a recursive function as we can see down"
   ]
  },
  {
   "cell_type": "code",
   "execution_count": 8,
   "id": "d2637f1a",
   "metadata": {},
   "outputs": [
    {
     "name": "stdout",
     "output_type": "stream",
     "text": [
      "0\n",
      "1\n",
      "1\n",
      "2\n",
      "3\n",
      "5\n",
      "8\n",
      "13\n",
      "21\n",
      "112\n"
     ]
    }
   ],
   "source": [
    "import sys\n",
    "def fibonacci(limit):\n",
    "    a, b = 0, 1\n",
    "    while a < limit:\n",
    "        yield a\n",
    "        a, b = b, a+b\n",
    "fib = fibonacci(30)\n",
    "for i in fib:\n",
    "    print(i)\n",
    "print(sys.getsizeof(fibonacci(100000)))"
   ]
  },
  {
   "cell_type": "markdown",
   "id": "89b5c3ad",
   "metadata": {},
   "source": [
    "## Generator expression"
   ]
  },
  {
   "cell_type": "markdown",
   "id": "128d5fef",
   "metadata": {},
   "source": [
    "#### Same as list comprehension but uses ( ) round brackets instead of [ ] square bracket as shown. It is a shortcut way to create generators"
   ]
  },
  {
   "cell_type": "code",
   "execution_count": 12,
   "id": "ba31c4ea",
   "metadata": {},
   "outputs": [
    {
     "name": "stdout",
     "output_type": "stream",
     "text": [
      "112\n",
      "0\n",
      "2\n",
      "4\n",
      "6\n",
      "8\n"
     ]
    }
   ],
   "source": [
    "import sys\n",
    "mygenerator = (i for i in range(10) if i % 2 == 0)\n",
    "print(sys.getsizeof(mygenerator))\n",
    "for i in mygenerator:\n",
    "    print(i)"
   ]
  },
  {
   "cell_type": "markdown",
   "id": "effc4b8f",
   "metadata": {},
   "source": [
    "#### Converting the generator into a list and can do the same for tuple and set. Creating a list comprehension and generator expression and measuring size in bytes"
   ]
  },
  {
   "cell_type": "code",
   "execution_count": 22,
   "id": "5667fb84",
   "metadata": {},
   "outputs": [
    {
     "name": "stdout",
     "output_type": "stream",
     "text": [
      "[0, 2, 4, 6, 8, 10, 12, 14, 16, 18]\n",
      "112\n",
      "[0, 2, 4, 6, 8, 10, 12, 14, 16, 18]\n",
      "184\n"
     ]
    }
   ],
   "source": [
    "# and if the range is bigger the size get bigger of list\n",
    "import sys\n",
    "mygenerator = (i for i in range(20) if i % 2 == 0)\n",
    "print(list(mygenerator))\n",
    "print(sys.getsizeof(mygenerator))\n",
    "mylist = [i for i in range(20) if i % 2 == 0]\n",
    "print(mylist)\n",
    "print(sys.getsizeof(mylist))"
   ]
  }
 ],
 "metadata": {
  "kernelspec": {
   "display_name": "Python 3 (ipykernel)",
   "language": "python",
   "name": "python3"
  },
  "language_info": {
   "codemirror_mode": {
    "name": "ipython",
    "version": 3
   },
   "file_extension": ".py",
   "mimetype": "text/x-python",
   "name": "python",
   "nbconvert_exporter": "python",
   "pygments_lexer": "ipython3",
   "version": "3.9.13"
  }
 },
 "nbformat": 4,
 "nbformat_minor": 5
}
